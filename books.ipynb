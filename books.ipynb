{
 "cells": [
  {
   "cell_type": "code",
   "execution_count": 1,
   "metadata": {},
   "outputs": [],
   "source": [
    "import requests\n",
    "import csv \n",
    "from bs4 import BeautifulSoup "
   ]
  },
  {
   "cell_type": "code",
   "execution_count": 2,
   "metadata": {},
   "outputs": [],
   "source": [
    "url = 'https://books.toscrape.com/'\n",
    "response = requests.get(url)\n",
    "soup = BeautifulSoup(response.text , 'html.parser')\n"
   ]
  },
  {
   "cell_type": "code",
   "execution_count": 39,
   "metadata": {},
   "outputs": [],
   "source": [
    "articles = soup.find_all('article' , attrs={'class' : 'product_pod'} )\n"
   ]
  },
  {
   "cell_type": "code",
   "execution_count": 37,
   "metadata": {},
   "outputs": [],
   "source": [
    "def convert_ratings(num):\n",
    "    ratings = {'One': 1, 'Two': 2, 'Three': 3, 'Four': 4, 'Five': 5}\n",
    "    return ratings[num]"
   ]
  },
  {
   "cell_type": "code",
   "execution_count": 38,
   "metadata": {},
   "outputs": [],
   "source": [
    "with open('books.csv' , 'w' , newline='') as f:\n",
    "    writer = csv.DictWriter(f , fieldnames=['book_title' , 'book_price' , 'book_rating'])\n",
    "    writer.writeheader()\n",
    "\n",
    "    for books in articles:\n",
    "        h3 = books.find('h3')\n",
    "        a = h3.find('a')\n",
    "        book_title = a.attrs['title']\n",
    "        price = books.find('p' , attrs={'class' : 'price_color'}).get_text()\n",
    "        book_price = float(price[2:])\n",
    "        rating = books.find('p' , attrs={'class' : 'star-rating'})\n",
    "        book_rating = rating.attrs['class'][-1]\n",
    "        book_rating = convert_ratings(book_rating)\n",
    "\n",
    "        writer.writerow({'book_title' : book_title , 'book_price' : book_price , 'book_rating' : book_rating })\n",
    "\n"
   ]
  },
  {
   "cell_type": "code",
   "execution_count": null,
   "metadata": {},
   "outputs": [],
   "source": []
  }
 ],
 "metadata": {
  "interpreter": {
   "hash": "2f9e46a99545bdc53b16c24fbfc17c2c01b69146d35ce0c92f31414a54e3d929"
  },
  "kernelspec": {
   "display_name": "Python 3.9.7 ('base')",
   "language": "python",
   "name": "python3"
  },
  "language_info": {
   "codemirror_mode": {
    "name": "ipython",
    "version": 3
   },
   "file_extension": ".py",
   "mimetype": "text/x-python",
   "name": "python",
   "nbconvert_exporter": "python",
   "pygments_lexer": "ipython3",
   "version": "3.9.7"
  },
  "orig_nbformat": 4
 },
 "nbformat": 4,
 "nbformat_minor": 2
}
